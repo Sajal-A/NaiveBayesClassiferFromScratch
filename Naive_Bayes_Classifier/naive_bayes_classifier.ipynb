{
 "cells": [
  {
   "cell_type": "markdown",
   "metadata": {},
   "source": [
    "#### Implementing Naive Bayes' Classifier from scratch.\n",
    "#### Generating Dataset used for classifier."
   ]
  },
  {
   "cell_type": "markdown",
   "metadata": {},
   "source": [
    "## Section 1 - Dog Breed Classifier"
   ]
  },
  {
   "cell_type": "markdown",
   "metadata": {},
   "source": [
    "##### Building a Dog Breed Classifier using Naive Bayes.\n",
    "- We will utilize the generator fuction to create features for a synthetic dataset containing information about three different dog breeds.\n",
    "- Implementing Naive Bayes algorithm to classify the dogs accurately based on their featires."
   ]
  },
  {
   "cell_type": "markdown",
   "metadata": {},
   "source": [
    "##### Generating the Dataset"
   ]
  },
  {
   "cell_type": "markdown",
   "metadata": {},
   "source": [
    "We will generate a dataset that consists of four features for each dog:\n",
    "- height(in cm): follows a gaussian distribution\n",
    "- weight(in kg): follows a gaussian distribution\n",
    "- bark_days: representing the number of days (out of 30) that the dog barks, follows a binomial distribution. \n",
    "- ear_head_ratio: ratio between the length of the ears and the length of the head, It follows a uniform distribution."
   ]
  },
  {
   "cell_type": "code",
   "execution_count": 1,
   "metadata": {},
   "outputs": [],
   "source": [
    "FEATURES = [\"height\",\"weight\",\"bark_days\",\"ear_head_ratio\"]"
   ]
  },
  {
   "cell_type": "markdown",
   "metadata": {},
   "source": [
    "Introducing the concept of *dataclass*\n",
    "- A 'dataclass' in python is a decorator (@dataclass) that automatically generates boilerplate code for classes that are mainly used to store data.\n",
    "- It saves you from writing repetitive code for classes that just hold data. \n",
    "- You can think of them as container for data in which you can access each variable by using the dot notation."
   ]
  },
  {
   "cell_type": "code",
   "execution_count": 2,
   "metadata": {},
   "outputs": [],
   "source": [
    "from dataclasses import dataclass\n",
    "# We create a data class where each one of these has different parameters of different distribution.\n",
    "@dataclass\n",
    "class params_gaussian:\n",
    "    mu : float\n",
    "    sigma: float\n",
    "    \n",
    "    def __repr__(self) -> str:\n",
    "        return f\"params_gaussian(mu={self.mu:.3f}, sigma={self.sigma:.3f})\"\n",
    "    \n",
    "@dataclass\n",
    "class params_binomial:\n",
    "    n: int\n",
    "    p: float\n",
    "    \n",
    "    def __repr__(self) -> str:\n",
    "        return f\"params_binomial(mu={self.n:.3f}, p={self.p:.3f})\"\n",
    "    \n",
    "@dataclass\n",
    "class params_uniform:\n",
    "    a:int\n",
    "    b:int\n",
    "    \n",
    "    def __repr__(self) -> str:\n",
    "        return f\"params_uniform(a={self.a}, b={self.b})\""
   ]
  },
  {
   "cell_type": "code",
   "execution_count": 3,
   "metadata": {},
   "outputs": [],
   "source": [
    "# we have place to store the params for different probability distribution\n",
    "# we will define a dictionary that has different infomation for every breed of dogs.\n",
    "\n",
    "breed_info = {\n",
    "    0 : {\n",
    "        \"height\" : params_gaussian(mu=35,sigma=1.5),\n",
    "        \"weight\" : params_gaussian(mu=20,sigma=1),\n",
    "        \"bark_days\" : params_binomial(n=30,p=0.8),\n",
    "        \"ear_head_ratio\" : params_uniform(a=0.6,b=0.1)\n",
    "    },\n",
    "    1 : {\n",
    "        \"height\" : params_gaussian(mu=35,sigma=2),\n",
    "        \"weight\" : params_gaussian(mu=20,sigma=5),\n",
    "        \"bark_days\" : params_binomial(n=30,p=0.5),\n",
    "        \"ear_head_ratio\" : params_uniform(a=0.2,b=0.5)\n",
    "    },\n",
    "    2 : {\n",
    "        \"height\" : params_gaussian(mu=40,sigma=3.5),\n",
    "        \"weight\" : params_gaussian(mu=32,sigma=3),\n",
    "        \"bark_days\" : params_binomial(n=30,p=0.3),\n",
    "        \"ear_head_ratio\" : params_uniform(a=0.1,b=0.3)\n",
    "    },\n",
    "}"
   ]
  },
  {
   "cell_type": "markdown",
   "metadata": {},
   "source": [
    "Introducing the concept of *match* in python\n",
    "- The match statement allows you to compare a value against patterns and execute code based on which pattern matches.\n",
    "- similar to switch case in other language\n",
    "\n",
    "\n"
   ]
  },
  {
   "cell_type": "code",
   "execution_count": 4,
   "metadata": {},
   "outputs": [
    {
     "name": "stdout",
     "output_type": "stream",
     "text": [
      "¡Hola!\n"
     ]
    }
   ],
   "source": [
    "def greet(language):\n",
    "    match language:\n",
    "        case \"English\":\n",
    "            print(\"Hello!\")\n",
    "        case \"Spanish\":\n",
    "            print(\"¡Hola!\")\n",
    "        case \"French\":\n",
    "            print(\"Bonjour!\")\n",
    "        case _:\n",
    "            print(\"Language not supported.\")\n",
    "greet(\"Spanish\")\n"
   ]
  },
  {
   "cell_type": "markdown",
   "metadata": {},
   "source": [
    "case _: acts like default in switch — it matches anything not previously matched."
   ]
  },
  {
   "cell_type": "code",
   "execution_count": 5,
   "metadata": {},
   "outputs": [],
   "source": [
    "import numpy as np \n",
    "import pandas as pd \n",
    "from distribution import Distribution\n",
    "\n",
    "# Generate data for different breed\n",
    "def generate_data_for_breed(breed,features,n_sample,params):\n",
    "    \"\"\"Generate synthetic data for a specific breed of dogs based on given feature and parameters.\n",
    "\n",
    "    Args:\n",
    "        breed (str): The specific breed of dog\n",
    "        features (list[str]): List of feautres to generate data for (e.g., \"height\", \"weight\", \"bark_days\", \"ear_head_ratio\")\n",
    "        n_sample (int): the number of samples to generate for each features.\n",
    "        params (dict): dictionary containing parameters for each breed and its features.\n",
    "        \n",
    "    return:\n",
    "        - dataframe(pd.DataFrame): A dataframe containing the generated synthetic data.\n",
    "    \"\"\"\n",
    "    df = pd.DataFrame()\n",
    "    dis = Distribution()\n",
    "    for feature in features:\n",
    "        match feature:\n",
    "            case \"height\" | \"weight\":\n",
    "                df[feature] = dis.gaussian_generator(params[breed][feature].mu, params[breed][feature].sigma,n_sample)\n",
    "            case \"bark_days\":\n",
    "                df[feature] = dis.binomial_generator(params[breed][feature].n,params[breed][feature].p,n_sample)\n",
    "            case \"ear_head_ratio\":\n",
    "                df[feature] = dis.uniform_generator(params[breed][feature].a, params[breed][feature].b,n_sample)\n",
    "                \n",
    "    df[\"breed\"] = breed\n",
    "    \n",
    "    return df\n",
    "\n",
    "    "
   ]
  },
  {
   "cell_type": "code",
   "execution_count": 6,
   "metadata": {},
   "outputs": [
    {
     "data": {
      "text/html": [
       "<div>\n",
       "<style scoped>\n",
       "    .dataframe tbody tr th:only-of-type {\n",
       "        vertical-align: middle;\n",
       "    }\n",
       "\n",
       "    .dataframe tbody tr th {\n",
       "        vertical-align: top;\n",
       "    }\n",
       "\n",
       "    .dataframe thead th {\n",
       "        text-align: right;\n",
       "    }\n",
       "</style>\n",
       "<table border=\"1\" class=\"dataframe\">\n",
       "  <thead>\n",
       "    <tr style=\"text-align: right;\">\n",
       "      <th></th>\n",
       "      <th>height</th>\n",
       "      <th>weight</th>\n",
       "      <th>bark_days</th>\n",
       "      <th>ear_head_ratio</th>\n",
       "      <th>breed</th>\n",
       "    </tr>\n",
       "  </thead>\n",
       "  <tbody>\n",
       "    <tr>\n",
       "      <th>0</th>\n",
       "      <td>34.520221</td>\n",
       "      <td>19.680148</td>\n",
       "      <td>23.0</td>\n",
       "      <td>0.412730</td>\n",
       "      <td>0</td>\n",
       "    </tr>\n",
       "    <tr>\n",
       "      <th>1</th>\n",
       "      <td>37.477729</td>\n",
       "      <td>21.651819</td>\n",
       "      <td>27.0</td>\n",
       "      <td>0.124643</td>\n",
       "      <td>0</td>\n",
       "    </tr>\n",
       "    <tr>\n",
       "      <th>2</th>\n",
       "      <td>35.928282</td>\n",
       "      <td>20.618855</td>\n",
       "      <td>25.0</td>\n",
       "      <td>0.234003</td>\n",
       "      <td>0</td>\n",
       "    </tr>\n",
       "    <tr>\n",
       "      <th>3</th>\n",
       "      <td>35.374814</td>\n",
       "      <td>20.249876</td>\n",
       "      <td>25.0</td>\n",
       "      <td>0.300671</td>\n",
       "      <td>0</td>\n",
       "    </tr>\n",
       "    <tr>\n",
       "      <th>4</th>\n",
       "      <td>33.483565</td>\n",
       "      <td>18.989044</td>\n",
       "      <td>22.0</td>\n",
       "      <td>0.521991</td>\n",
       "      <td>0</td>\n",
       "    </tr>\n",
       "    <tr>\n",
       "      <th>...</th>\n",
       "      <td>...</td>\n",
       "      <td>...</td>\n",
       "      <td>...</td>\n",
       "      <td>...</td>\n",
       "      <td>...</td>\n",
       "    </tr>\n",
       "    <tr>\n",
       "      <th>3445</th>\n",
       "      <td>37.116179</td>\n",
       "      <td>29.528153</td>\n",
       "      <td>7.0</td>\n",
       "      <td>0.140997</td>\n",
       "      <td>2</td>\n",
       "    </tr>\n",
       "    <tr>\n",
       "      <th>3446</th>\n",
       "      <td>38.095257</td>\n",
       "      <td>30.367363</td>\n",
       "      <td>8.0</td>\n",
       "      <td>0.158630</td>\n",
       "      <td>2</td>\n",
       "    </tr>\n",
       "    <tr>\n",
       "      <th>3447</th>\n",
       "      <td>44.413310</td>\n",
       "      <td>35.782838</td>\n",
       "      <td>12.0</td>\n",
       "      <td>0.279267</td>\n",
       "      <td>2</td>\n",
       "    </tr>\n",
       "    <tr>\n",
       "      <th>3448</th>\n",
       "      <td>32.208460</td>\n",
       "      <td>25.321537</td>\n",
       "      <td>4.0</td>\n",
       "      <td>0.102600</td>\n",
       "      <td>2</td>\n",
       "    </tr>\n",
       "    <tr>\n",
       "      <th>3449</th>\n",
       "      <td>35.208699</td>\n",
       "      <td>27.893171</td>\n",
       "      <td>6.0</td>\n",
       "      <td>0.117102</td>\n",
       "      <td>2</td>\n",
       "    </tr>\n",
       "  </tbody>\n",
       "</table>\n",
       "<p>3450 rows × 5 columns</p>\n",
       "</div>"
      ],
      "text/plain": [
       "         height     weight  bark_days  ear_head_ratio  breed\n",
       "0     34.520221  19.680148       23.0        0.412730      0\n",
       "1     37.477729  21.651819       27.0        0.124643      0\n",
       "2     35.928282  20.618855       25.0        0.234003      0\n",
       "3     35.374814  20.249876       25.0        0.300671      0\n",
       "4     33.483565  18.989044       22.0        0.521991      0\n",
       "...         ...        ...        ...             ...    ...\n",
       "3445  37.116179  29.528153        7.0        0.140997      2\n",
       "3446  38.095257  30.367363        8.0        0.158630      2\n",
       "3447  44.413310  35.782838       12.0        0.279267      2\n",
       "3448  32.208460  25.321537        4.0        0.102600      2\n",
       "3449  35.208699  27.893171        6.0        0.117102      2\n",
       "\n",
       "[3450 rows x 5 columns]"
      ]
     },
     "execution_count": 6,
     "metadata": {},
     "output_type": "execute_result"
    }
   ],
   "source": [
    "df_0 = generate_data_for_breed(breed=0,features=FEATURES,n_sample=1200,params=breed_info)\n",
    "df_1 = generate_data_for_breed(breed=1,features=FEATURES,n_sample=1350,params=breed_info)\n",
    "df_2 = generate_data_for_breed(breed=2,features=FEATURES,n_sample=900,params=breed_info)\n",
    "\n",
    "dog_data = pd.concat([df_0,df_1,df_2]).reset_index(drop=True)\n",
    "dog_data\n"
   ]
  },
  {
   "cell_type": "code",
   "execution_count": 7,
   "metadata": {},
   "outputs": [
    {
     "data": {
      "text/html": [
       "<div>\n",
       "<style scoped>\n",
       "    .dataframe tbody tr th:only-of-type {\n",
       "        vertical-align: middle;\n",
       "    }\n",
       "\n",
       "    .dataframe tbody tr th {\n",
       "        vertical-align: top;\n",
       "    }\n",
       "\n",
       "    .dataframe thead th {\n",
       "        text-align: right;\n",
       "    }\n",
       "</style>\n",
       "<table border=\"1\" class=\"dataframe\">\n",
       "  <thead>\n",
       "    <tr style=\"text-align: right;\">\n",
       "      <th></th>\n",
       "      <th>height</th>\n",
       "      <th>weight</th>\n",
       "      <th>bark_days</th>\n",
       "      <th>ear_head_ratio</th>\n",
       "      <th>breed</th>\n",
       "    </tr>\n",
       "  </thead>\n",
       "  <tbody>\n",
       "    <tr>\n",
       "      <th>2836</th>\n",
       "      <td>39.697810</td>\n",
       "      <td>31.740980</td>\n",
       "      <td>9.0</td>\n",
       "      <td>0.193120</td>\n",
       "      <td>2</td>\n",
       "    </tr>\n",
       "    <tr>\n",
       "      <th>1002</th>\n",
       "      <td>36.710641</td>\n",
       "      <td>21.140427</td>\n",
       "      <td>26.0</td>\n",
       "      <td>0.163527</td>\n",
       "      <td>0</td>\n",
       "    </tr>\n",
       "    <tr>\n",
       "      <th>1075</th>\n",
       "      <td>34.726930</td>\n",
       "      <td>19.817954</td>\n",
       "      <td>24.0</td>\n",
       "      <td>0.386113</td>\n",
       "      <td>0</td>\n",
       "    </tr>\n",
       "    <tr>\n",
       "      <th>1583</th>\n",
       "      <td>37.324884</td>\n",
       "      <td>25.812210</td>\n",
       "      <td>18.0</td>\n",
       "      <td>0.463242</td>\n",
       "      <td>1</td>\n",
       "    </tr>\n",
       "    <tr>\n",
       "      <th>248</th>\n",
       "      <td>37.691499</td>\n",
       "      <td>21.794333</td>\n",
       "      <td>28.0</td>\n",
       "      <td>0.118190</td>\n",
       "      <td>0</td>\n",
       "    </tr>\n",
       "    <tr>\n",
       "      <th>814</th>\n",
       "      <td>36.688852</td>\n",
       "      <td>21.125901</td>\n",
       "      <td>26.0</td>\n",
       "      <td>0.165052</td>\n",
       "      <td>0</td>\n",
       "    </tr>\n",
       "    <tr>\n",
       "      <th>1407</th>\n",
       "      <td>35.844078</td>\n",
       "      <td>22.110196</td>\n",
       "      <td>16.0</td>\n",
       "      <td>0.399051</td>\n",
       "      <td>1</td>\n",
       "    </tr>\n",
       "    <tr>\n",
       "      <th>3376</th>\n",
       "      <td>38.616784</td>\n",
       "      <td>30.814387</td>\n",
       "      <td>8.0</td>\n",
       "      <td>0.169269</td>\n",
       "      <td>2</td>\n",
       "    </tr>\n",
       "    <tr>\n",
       "      <th>2700</th>\n",
       "      <td>44.655532</td>\n",
       "      <td>35.990456</td>\n",
       "      <td>12.0</td>\n",
       "      <td>0.281653</td>\n",
       "      <td>2</td>\n",
       "    </tr>\n",
       "    <tr>\n",
       "      <th>533</th>\n",
       "      <td>35.209095</td>\n",
       "      <td>20.139397</td>\n",
       "      <td>24.0</td>\n",
       "      <td>0.322284</td>\n",
       "      <td>0</td>\n",
       "    </tr>\n",
       "  </tbody>\n",
       "</table>\n",
       "</div>"
      ],
      "text/plain": [
       "         height     weight  bark_days  ear_head_ratio  breed\n",
       "2836  39.697810  31.740980        9.0        0.193120      2\n",
       "1002  36.710641  21.140427       26.0        0.163527      0\n",
       "1075  34.726930  19.817954       24.0        0.386113      0\n",
       "1583  37.324884  25.812210       18.0        0.463242      1\n",
       "248   37.691499  21.794333       28.0        0.118190      0\n",
       "814   36.688852  21.125901       26.0        0.165052      0\n",
       "1407  35.844078  22.110196       16.0        0.399051      1\n",
       "3376  38.616784  30.814387        8.0        0.169269      2\n",
       "2700  44.655532  35.990456       12.0        0.281653      2\n",
       "533   35.209095  20.139397       24.0        0.322284      0"
      ]
     },
     "execution_count": 7,
     "metadata": {},
     "output_type": "execute_result"
    }
   ],
   "source": [
    "dogs_breed_data = dog_data.sample(frac=1) # shuffle the data\n",
    "dogs_breed_data.head(10)"
   ]
  },
  {
   "cell_type": "code",
   "execution_count": 8,
   "metadata": {},
   "outputs": [
    {
     "data": {
      "text/html": [
       "<div>\n",
       "<style scoped>\n",
       "    .dataframe tbody tr th:only-of-type {\n",
       "        vertical-align: middle;\n",
       "    }\n",
       "\n",
       "    .dataframe tbody tr th {\n",
       "        vertical-align: top;\n",
       "    }\n",
       "\n",
       "    .dataframe thead th {\n",
       "        text-align: right;\n",
       "    }\n",
       "</style>\n",
       "<table border=\"1\" class=\"dataframe\">\n",
       "  <thead>\n",
       "    <tr style=\"text-align: right;\">\n",
       "      <th></th>\n",
       "      <th>height</th>\n",
       "      <th>weight</th>\n",
       "      <th>bark_days</th>\n",
       "      <th>ear_head_ratio</th>\n",
       "      <th>breed</th>\n",
       "    </tr>\n",
       "  </thead>\n",
       "  <tbody>\n",
       "    <tr>\n",
       "      <th>count</th>\n",
       "      <td>3450.000000</td>\n",
       "      <td>3450.000000</td>\n",
       "      <td>3450.000000</td>\n",
       "      <td>3450.000000</td>\n",
       "      <td>3450.000000</td>\n",
       "    </tr>\n",
       "    <tr>\n",
       "      <th>mean</th>\n",
       "      <td>36.275919</td>\n",
       "      <td>23.095936</td>\n",
       "      <td>16.530145</td>\n",
       "      <td>0.310283</td>\n",
       "      <td>0.913043</td>\n",
       "    </tr>\n",
       "    <tr>\n",
       "      <th>std</th>\n",
       "      <td>3.211112</td>\n",
       "      <td>6.348911</td>\n",
       "      <td>6.457825</td>\n",
       "      <td>0.126155</td>\n",
       "      <td>0.775441</td>\n",
       "    </tr>\n",
       "    <tr>\n",
       "      <th>min</th>\n",
       "      <td>29.795694</td>\n",
       "      <td>6.989234</td>\n",
       "      <td>3.000000</td>\n",
       "      <td>0.100141</td>\n",
       "      <td>0.000000</td>\n",
       "    </tr>\n",
       "    <tr>\n",
       "      <th>25%</th>\n",
       "      <td>34.134189</td>\n",
       "      <td>19.182379</td>\n",
       "      <td>11.000000</td>\n",
       "      <td>0.213161</td>\n",
       "      <td>0.000000</td>\n",
       "    </tr>\n",
       "    <tr>\n",
       "      <th>50%</th>\n",
       "      <td>35.612010</td>\n",
       "      <td>20.888449</td>\n",
       "      <td>16.000000</td>\n",
       "      <td>0.288337</td>\n",
       "      <td>1.000000</td>\n",
       "    </tr>\n",
       "    <tr>\n",
       "      <th>75%</th>\n",
       "      <td>37.527885</td>\n",
       "      <td>28.233666</td>\n",
       "      <td>23.000000</td>\n",
       "      <td>0.411872</td>\n",
       "      <td>2.000000</td>\n",
       "    </tr>\n",
       "    <tr>\n",
       "      <th>max</th>\n",
       "      <td>52.068168</td>\n",
       "      <td>42.344144</td>\n",
       "      <td>30.000000</td>\n",
       "      <td>0.597684</td>\n",
       "      <td>2.000000</td>\n",
       "    </tr>\n",
       "  </tbody>\n",
       "</table>\n",
       "</div>"
      ],
      "text/plain": [
       "            height       weight    bark_days  ear_head_ratio        breed\n",
       "count  3450.000000  3450.000000  3450.000000     3450.000000  3450.000000\n",
       "mean     36.275919    23.095936    16.530145        0.310283     0.913043\n",
       "std       3.211112     6.348911     6.457825        0.126155     0.775441\n",
       "min      29.795694     6.989234     3.000000        0.100141     0.000000\n",
       "25%      34.134189    19.182379    11.000000        0.213161     0.000000\n",
       "50%      35.612010    20.888449    16.000000        0.288337     1.000000\n",
       "75%      37.527885    28.233666    23.000000        0.411872     2.000000\n",
       "max      52.068168    42.344144    30.000000        0.597684     2.000000"
      ]
     },
     "execution_count": 8,
     "metadata": {},
     "output_type": "execute_result"
    }
   ],
   "source": [
    "dogs_breed_data.describe()"
   ]
  },
  {
   "cell_type": "code",
   "execution_count": 9,
   "metadata": {},
   "outputs": [],
   "source": [
    "# split the data for training and testing\n",
    "\n",
    "split = int(len(dogs_breed_data)*0.7)\n",
    "df_train = dogs_breed_data[:split].reset_index(drop=True)\n",
    "df_test = dogs_breed_data[split:].reset_index(drop=True)"
   ]
  },
  {
   "cell_type": "markdown",
   "metadata": {},
   "source": [
    "##### Implementation of Naive Bayes Classifier"
   ]
  },
  {
   "cell_type": "markdown",
   "metadata": {},
   "source": [
    "- Computing parameters out of the training data\n"
   ]
  },
  {
   "cell_type": "code",
   "execution_count": 10,
   "metadata": {},
   "outputs": [],
   "source": [
    "def compute_training_params(df, features):\n",
    "    # dict that should contain the estimated parameters\n",
    "    params_dict = {}\n",
    "    # dict that should contain the proportion of data belonging to each of the class.\n",
    "    probs_dict = {}\n",
    "    for breed in df['breed']:\n",
    "        df_breed = df[df['breed']==breed][features]\n",
    "        probs_dict[breed] = round(len(df_breed)/len(df),3)\n",
    "        \n",
    "        inner_dict = {}\n",
    "        \n",
    "        for feature in df_breed.columns:\n",
    "            match feature:\n",
    "                case \"height\" | \"weight\":\n",
    "                    mu = round(df_breed[feature].mean(),3)\n",
    "                    sigma = round(df_breed[feature].std(),3)\n",
    "                    params = params_gaussian(mu=mu,sigma=sigma)\n",
    "                case \"bark_days\":\n",
    "                    n = df_breed[feature].max()\n",
    "                    p = round(df_breed[feature].mean() / n,3) \n",
    "                    params = params_binomial(n=n,p=p)\n",
    "                case \"ear_head_ratio\":\n",
    "                    a = df_breed[feature].min()\n",
    "                    b = df_breed[feature].max()\n",
    "                    params = params_uniform(a=a,b=b)\n",
    "                    \n",
    "            inner_dict[feature] = params\n",
    "        params_dict[breed] = inner_dict\n",
    "        \n",
    "    return params_dict, probs_dict"
   ]
  },
  {
   "cell_type": "code",
   "execution_count": 11,
   "metadata": {},
   "outputs": [],
   "source": [
    "# Test the function\n",
    "train_params, train_class_prob = compute_training_params(df=df_train,features=FEATURES)"
   ]
  },
  {
   "cell_type": "code",
   "execution_count": 12,
   "metadata": {},
   "outputs": [
    {
     "data": {
      "text/plain": [
       "{2: {'height': params_gaussian(mu=39.814, sigma=3.575),\n",
       "  'weight': params_gaussian(mu=31.841, sigma=3.064),\n",
       "  'bark_days': params_binomial(mu=18.000, p=0.493),\n",
       "  'ear_head_ratio': params_uniform(a=0.10101231676924374, b=0.2999435346572261)},\n",
       " 0: {'height': params_gaussian(mu=35.030, sigma=1.519),\n",
       "  'weight': params_gaussian(mu=20.020, sigma=1.013),\n",
       "  'bark_days': params_binomial(mu=30.000, p=0.801),\n",
       "  'ear_head_ratio': params_uniform(a=0.10014116335693468, b=0.5974692080768906)},\n",
       " 1: {'height': params_gaussian(mu=34.971, sigma=2.011),\n",
       "  'weight': params_gaussian(mu=19.927, sigma=5.028),\n",
       "  'bark_days': params_binomial(mu=24.000, p=0.622),\n",
       "  'ear_head_ratio': params_uniform(a=0.20138960690138086, b=0.49991530198583917)}}"
      ]
     },
     "execution_count": 12,
     "metadata": {},
     "output_type": "execute_result"
    }
   ],
   "source": [
    "train_params"
   ]
  },
  {
   "cell_type": "code",
   "execution_count": 13,
   "metadata": {},
   "outputs": [
    {
     "data": {
      "text/plain": [
       "{2: 0.26, 0: 0.346, 1: 0.393}"
      ]
     },
     "execution_count": 13,
     "metadata": {},
     "output_type": "execute_result"
    }
   ],
   "source": [
    "train_class_prob"
   ]
  },
  {
   "cell_type": "markdown",
   "metadata": {},
   "source": [
    "#### Compute the probability of X given the Breed -> P(x|Ci)"
   ]
  },
  {
   "cell_type": "code",
   "execution_count": 16,
   "metadata": {},
   "outputs": [],
   "source": [
    "def prob_of_x_given_C(X,features, breed, params_dict):\n",
    "    if len(X) != len(features):\n",
    "        print(\"X and list of features should have the same length\")\n",
    "        return 0\n",
    "    \n",
    "    probability = 1.0\n",
    "    dis = Distribution()\n",
    "    \n",
    "    for x, feature in zip(X,features):\n",
    "        params = params_dict[breed][feature]\n",
    "        \n",
    "        match feature:\n",
    "            case \"height\" | \"weight\":\n",
    "                probability_f = dis.pdf_gaussian(x,params.mu,params.sigma)\n",
    "            case \"bark_days\":\n",
    "                probability_f = dis.pdf_binomial(x, params.n,params.p)\n",
    "            case \"ear_head_ratio\":\n",
    "                probability_f = dis.pdf_uniform(x,params.a,params.b)\n",
    "        \n",
    "        probability *= probability_f \n",
    "    return probability\n"
   ]
  },
  {
   "cell_type": "code",
   "execution_count": 52,
   "metadata": {},
   "outputs": [],
   "source": [
    "# test the function\n",
    "\n",
    "example_dog = df_test[FEATURES].loc[0]\n",
    "example_breed = df_test[[\"breed\"]].loc[0][\"breed\"]\n",
    "\n",
    "\n",
    "example_dog1 = df_test[FEATURES].loc[3]\n",
    "example_breed1 = df_test[[\"breed\"]].loc[3][\"breed\"]\n",
    "\n"
   ]
  },
  {
   "cell_type": "code",
   "execution_count": 33,
   "metadata": {},
   "outputs": [
    {
     "name": "stdout",
     "output_type": "stream",
     "text": [
      "height            33.625469\n",
      "weight            16.563673\n",
      "bark_days         13.000000\n",
      "ear_head_ratio     0.273787\n",
      "Name: 0, dtype: float64\n",
      "Its breed: breed    1.0\n",
      "Name: 0, dtype: float64\n"
     ]
    }
   ],
   "source": [
    "print(example_dog)\n",
    "print(f\"Its breed: {example_breed}\")"
   ]
  },
  {
   "cell_type": "code",
   "execution_count": 53,
   "metadata": {},
   "outputs": [
    {
     "name": "stdout",
     "output_type": "stream",
     "text": [
      "height            38.842889\n",
      "weight            31.008190\n",
      "bark_days          8.000000\n",
      "ear_head_ratio     0.174094\n",
      "Name: 3, dtype: float64\n",
      "Its breed: 2\n"
     ]
    }
   ],
   "source": [
    "print(example_dog1)\n",
    "print(f\"Its breed: {example_breed1}\")"
   ]
  },
  {
   "cell_type": "code",
   "execution_count": 36,
   "metadata": {},
   "outputs": [
    {
     "name": "stdout",
     "output_type": "stream",
     "text": [
      "Probability of these features if dog is classified as breed 0: 3.2393868484420737e-09\n",
      "Probability of these features if dog is classified as breed 1: 0.003950124435768676\n",
      "Probability of these features if dog is classified as breed 2: 1.902418041317492e-09\n"
     ]
    }
   ],
   "source": [
    "print(f\"Probability of these features if dog is classified as breed 0: {prob_of_x_given_C([*example_dog], FEATURES, 0, train_params)}\")\n",
    "print(f\"Probability of these features if dog is classified as breed 1: {prob_of_x_given_C([*example_dog], FEATURES, 1, train_params)}\")\n",
    "print(f\"Probability of these features if dog is classified as breed 2: {prob_of_x_given_C([*example_dog], FEATURES, 2, train_params)}\")"
   ]
  },
  {
   "cell_type": "markdown",
   "metadata": {},
   "source": [
    "##### Predict the Breed "
   ]
  },
  {
   "cell_type": "code",
   "execution_count": 41,
   "metadata": {},
   "outputs": [],
   "source": [
    "def predict_breed(X, features, params_dict, probs_dict):\n",
    "    \n",
    "    posterior_breed_0 = prob_of_x_given_C(X, features, 0, params_dict) * probs_dict[0]\n",
    "    posterior_breed_1 = prob_of_x_given_C(X, features, 1, params_dict) * probs_dict[1]\n",
    "    posterior_breed_2 = prob_of_x_given_C(X, features, 2, params_dict) * probs_dict[2]\n",
    "    \n",
    "    posterior_array = np.array([posterior_breed_0, posterior_breed_1, posterior_breed_2])\n",
    "    print(posterior_array)\n",
    "    prediction = np.argmax(posterior_array)\n",
    "    \n",
    "    return prediction"
   ]
  },
  {
   "cell_type": "code",
   "execution_count": 42,
   "metadata": {},
   "outputs": [
    {
     "name": "stdout",
     "output_type": "stream",
     "text": [
      "[1.12082785e-09 1.55239890e-03 4.94628691e-10]\n",
      "Example dog has breed breed    1.0\n",
      "Name: 0, dtype: float64 and Naive Bayes classified it as 1\n"
     ]
    }
   ],
   "source": [
    "example_pred = predict_breed([*example_dog], FEATURES, train_params, train_class_prob)\n",
    "print(f\"Example dog has breed {example_breed} and Naive Bayes classified it as {example_pred}\")"
   ]
  },
  {
   "cell_type": "code",
   "execution_count": 54,
   "metadata": {},
   "outputs": [
    {
     "name": "stdout",
     "output_type": "stream",
     "text": [
      "[3.23801842e-38 0.00000000e+00 3.02254595e-03]\n",
      "Example dog has breed 2 and Naive Bayes classified it as 2\n"
     ]
    }
   ],
   "source": [
    "example_pred1 = predict_breed([*example_dog1], FEATURES, train_params, train_class_prob)\n",
    "print(f\"Example dog has breed {example_breed1} and Naive Bayes classified it as {example_pred1}\")"
   ]
  },
  {
   "cell_type": "code",
   "execution_count": 40,
   "metadata": {},
   "outputs": [
    {
     "name": "stdout",
     "output_type": "stream",
     "text": [
      "Accuracy of the test split: 1.00\n"
     ]
    }
   ],
   "source": [
    "from sklearn.metrics import accuracy_score\n",
    "preds = df_test.apply(lambda x: predict_breed([*x[FEATURES]],FEATURES,train_params, train_class_prob),axis=1)\n",
    "test_acc = accuracy_score(df_test[\"breed\"],preds)\n",
    "print(f\"Accuracy of the test split: {test_acc:.2f}\")"
   ]
  },
  {
   "cell_type": "markdown",
   "metadata": {},
   "source": [
    "The Naive Bayes' classifier achived an accuracy score of 100% in the testing data."
   ]
  },
  {
   "cell_type": "code",
   "execution_count": 95,
   "metadata": {},
   "outputs": [],
   "source": [
    "dog_data.to_csv('Dogs_breed_data.csv',index=False)"
   ]
  },
  {
   "cell_type": "markdown",
   "metadata": {},
   "source": [
    "## Section 2 - Spam Detector"
   ]
  },
  {
   "cell_type": "markdown",
   "metadata": {},
   "source": [
    "- The idea is to build a classifer that is able to detect spam from ham emails\n",
    "- Dataset: over 5500 emails with their corresponding labels\n",
    "- The features are categorical."
   ]
  },
  {
   "cell_type": "code",
   "execution_count": 63,
   "metadata": {},
   "outputs": [
    {
     "data": {
      "text/html": [
       "<div>\n",
       "<style scoped>\n",
       "    .dataframe tbody tr th:only-of-type {\n",
       "        vertical-align: middle;\n",
       "    }\n",
       "\n",
       "    .dataframe tbody tr th {\n",
       "        vertical-align: top;\n",
       "    }\n",
       "\n",
       "    .dataframe thead th {\n",
       "        text-align: right;\n",
       "    }\n",
       "</style>\n",
       "<table border=\"1\" class=\"dataframe\">\n",
       "  <thead>\n",
       "    <tr style=\"text-align: right;\">\n",
       "      <th></th>\n",
       "      <th>text</th>\n",
       "      <th>spam</th>\n",
       "    </tr>\n",
       "  </thead>\n",
       "  <tbody>\n",
       "    <tr>\n",
       "      <th>0</th>\n",
       "      <td>Subject: naturally irresistible your corporate...</td>\n",
       "      <td>1</td>\n",
       "    </tr>\n",
       "    <tr>\n",
       "      <th>1</th>\n",
       "      <td>Subject: the stock trading gunslinger  fanny i...</td>\n",
       "      <td>1</td>\n",
       "    </tr>\n",
       "    <tr>\n",
       "      <th>2</th>\n",
       "      <td>Subject: unbelievable new homes made easy  im ...</td>\n",
       "      <td>1</td>\n",
       "    </tr>\n",
       "    <tr>\n",
       "      <th>3</th>\n",
       "      <td>Subject: 4 color printing special  request add...</td>\n",
       "      <td>1</td>\n",
       "    </tr>\n",
       "    <tr>\n",
       "      <th>4</th>\n",
       "      <td>Subject: do not have money , get software cds ...</td>\n",
       "      <td>1</td>\n",
       "    </tr>\n",
       "    <tr>\n",
       "      <th>5</th>\n",
       "      <td>Subject: great nnews  hello , welcome to medzo...</td>\n",
       "      <td>1</td>\n",
       "    </tr>\n",
       "    <tr>\n",
       "      <th>6</th>\n",
       "      <td>Subject: here ' s a hot play in motion  homela...</td>\n",
       "      <td>1</td>\n",
       "    </tr>\n",
       "    <tr>\n",
       "      <th>7</th>\n",
       "      <td>Subject: save your money buy getting this thin...</td>\n",
       "      <td>1</td>\n",
       "    </tr>\n",
       "    <tr>\n",
       "      <th>8</th>\n",
       "      <td>Subject: undeliverable : home based business f...</td>\n",
       "      <td>1</td>\n",
       "    </tr>\n",
       "    <tr>\n",
       "      <th>9</th>\n",
       "      <td>Subject: save your money buy getting this thin...</td>\n",
       "      <td>1</td>\n",
       "    </tr>\n",
       "  </tbody>\n",
       "</table>\n",
       "</div>"
      ],
      "text/plain": [
       "                                                text  spam\n",
       "0  Subject: naturally irresistible your corporate...     1\n",
       "1  Subject: the stock trading gunslinger  fanny i...     1\n",
       "2  Subject: unbelievable new homes made easy  im ...     1\n",
       "3  Subject: 4 color printing special  request add...     1\n",
       "4  Subject: do not have money , get software cds ...     1\n",
       "5  Subject: great nnews  hello , welcome to medzo...     1\n",
       "6  Subject: here ' s a hot play in motion  homela...     1\n",
       "7  Subject: save your money buy getting this thin...     1\n",
       "8  Subject: undeliverable : home based business f...     1\n",
       "9  Subject: save your money buy getting this thin...     1"
      ]
     },
     "execution_count": 63,
     "metadata": {},
     "output_type": "execute_result"
    }
   ],
   "source": [
    "emails = pd.read_csv('emails.csv')\n",
    "emails.head(10)"
   ]
  },
  {
   "cell_type": "code",
   "execution_count": 68,
   "metadata": {},
   "outputs": [
    {
     "data": {
      "text/html": [
       "<div>\n",
       "<style scoped>\n",
       "    .dataframe tbody tr th:only-of-type {\n",
       "        vertical-align: middle;\n",
       "    }\n",
       "\n",
       "    .dataframe tbody tr th {\n",
       "        vertical-align: top;\n",
       "    }\n",
       "\n",
       "    .dataframe thead th {\n",
       "        text-align: right;\n",
       "    }\n",
       "</style>\n",
       "<table border=\"1\" class=\"dataframe\">\n",
       "  <thead>\n",
       "    <tr style=\"text-align: right;\">\n",
       "      <th></th>\n",
       "      <th>text</th>\n",
       "      <th>spam</th>\n",
       "      <th>words</th>\n",
       "    </tr>\n",
       "  </thead>\n",
       "  <tbody>\n",
       "    <tr>\n",
       "      <th>0</th>\n",
       "      <td>Subject: naturally irresistible your corporate...</td>\n",
       "      <td>1</td>\n",
       "      <td>[its, even, our, is, -, break, collaboration, ...</td>\n",
       "    </tr>\n",
       "    <tr>\n",
       "      <th>1</th>\n",
       "      <td>Subject: the stock trading gunslinger  fanny i...</td>\n",
       "      <td>1</td>\n",
       "      <td>[continuant, like, herald, hall, chesapeake, a...</td>\n",
       "    </tr>\n",
       "    <tr>\n",
       "      <th>2</th>\n",
       "      <td>Subject: unbelievable new homes made easy  im ...</td>\n",
       "      <td>1</td>\n",
       "      <td>[$, all, we, at, pittman, and, foward, our, be...</td>\n",
       "    </tr>\n",
       "    <tr>\n",
       "      <th>3</th>\n",
       "      <td>Subject: 4 color printing special  request add...</td>\n",
       "      <td>1</td>\n",
       "      <td>[information, request, &amp;, message, and, our, t...</td>\n",
       "    </tr>\n",
       "    <tr>\n",
       "      <th>4</th>\n",
       "      <td>Subject: do not have money , get software cds ...</td>\n",
       "      <td>1</td>\n",
       "      <td>[d, all, money, with, me, best, get, be, ,, gr...</td>\n",
       "    </tr>\n",
       "  </tbody>\n",
       "</table>\n",
       "</div>"
      ],
      "text/plain": [
       "                                                text  spam  \\\n",
       "0  Subject: naturally irresistible your corporate...     1   \n",
       "1  Subject: the stock trading gunslinger  fanny i...     1   \n",
       "2  Subject: unbelievable new homes made easy  im ...     1   \n",
       "3  Subject: 4 color printing special  request add...     1   \n",
       "4  Subject: do not have money , get software cds ...     1   \n",
       "\n",
       "                                               words  \n",
       "0  [its, even, our, is, -, break, collaboration, ...  \n",
       "1  [continuant, like, herald, hall, chesapeake, a...  \n",
       "2  [$, all, we, at, pittman, and, foward, our, be...  \n",
       "3  [information, request, &, message, and, our, t...  \n",
       "4  [d, all, money, with, me, best, get, be, ,, gr...  "
      ]
     },
     "execution_count": 68,
     "metadata": {},
     "output_type": "execute_result"
    }
   ],
   "source": [
    "def preprocess_email(text:str):\n",
    "    \"\"\"Pre-processing of the given email text by converting it to lower case, \n",
    "    splitting it into words, and returning a list of unique words.\n",
    "\n",
    "    Args:\n",
    "        text (str): The email text to be processed\n",
    "    Returns:\n",
    "        list: A list of unique words extracted from the email text.\n",
    "    \"\"\"\n",
    "    text = text.lower()\n",
    "    return list(set(text.split()))\n",
    "\n",
    "emails['words'] = emails['text'].apply(preprocess_email)\n",
    "emails.head()"
   ]
  },
  {
   "cell_type": "markdown",
   "metadata": {},
   "source": [
    "- Naive Bayes' for Categorical Variable\n",
    "- If `x_k` is categorical, then P(`x_k`|`C_i`) is the number of samples in X that has attrribute `x_k` divided by the number of samples in class `C_i`"
   ]
  },
  {
   "cell_type": "markdown",
   "metadata": {},
   "source": [
    "##### Frequency of a word in each class"
   ]
  },
  {
   "cell_type": "code",
   "execution_count": 70,
   "metadata": {},
   "outputs": [],
   "source": [
    "def freq_word_each_class(df:pd.DataFrame):\n",
    "    \"\"\"Calculates the frequency of words in each class (spam and ham) based on a given dataframe\n",
    "\n",
    "    Args:\n",
    "        df (dataframe): columns[text,words,spam]\n",
    "        \n",
    "    Return:\n",
    "        dict: A dictionary that contains the frequency of words in each class.\n",
    "        The keys of the dictionary are words, and the values are nested dictionaries with keys as 'spam' and 'ham' \n",
    "        representing the frequency of the word in spam and ham emails, respectively. \n",
    "    \"\"\"\n",
    "    word_freq = {}\n",
    "    for _, row in df.iterrows():\n",
    "        words = row['words']\n",
    "        for word in words:\n",
    "            if word not in word_freq:\n",
    "                word_freq[word] = {'spam':0,'ham':0}\n",
    "                \n",
    "            match row['spam']:\n",
    "                case 0:\n",
    "                    word_freq[word]['ham'] += 1\n",
    "                case 1:\n",
    "                    word_freq[word]['spam'] += 1\n",
    "    return word_freq\n"
   ]
  },
  {
   "cell_type": "code",
   "execution_count": null,
   "metadata": {},
   "outputs": [],
   "source": [
    "# Test the function\n",
    "word_freq = freq_word_each_class(emails)\n",
    "word_freq"
   ]
  },
  {
   "cell_type": "code",
   "execution_count": 82,
   "metadata": {},
   "outputs": [
    {
     "name": "stdout",
     "output_type": "stream",
     "text": [
      "Frequency in both classes for word 'security': {'spam': 117, 'ham': 91}\n",
      "Frequency in both classes for word 'security': {'spam': 203, 'ham': 134}\n",
      "Given word '2342' is not in corpus\n"
     ]
    }
   ],
   "source": [
    "try:\n",
    "    print(f\"Frequency in both classes for word 'security': {word_freq['security']}\")\n",
    "    print(f\"Frequency in both classes for word 'security': {word_freq['website']}\")\n",
    "    print(f\"Frequency in both classes for word 'website': {word_freq['2342']}\")\n",
    "except Exception as e:\n",
    "    print(f\"Given word {e} is not in corpus\") \n",
    "    \n"
   ]
  },
  {
   "cell_type": "markdown",
   "metadata": {},
   "source": [
    "##### Frequency of classes"
   ]
  },
  {
   "cell_type": "code",
   "execution_count": 84,
   "metadata": {},
   "outputs": [
    {
     "data": {
      "text/plain": [
       "{'spam': 1368, 'ham': 4360}"
      ]
     },
     "execution_count": 84,
     "metadata": {},
     "output_type": "execute_result"
    }
   ],
   "source": [
    "def class_frequencies(df):\n",
    "    \"\"\"\n",
    "    Calculate the frequencies of classes in a DataFrame\n",
    "\n",
    "    \"\"\"\n",
    "    class_freq = {\n",
    "        \"spam\" : len(df[df[\"spam\"]==1]),\n",
    "        \"ham\" : len(df[df['spam']==0])\n",
    "    }\n",
    "    return class_freq\n",
    "\n",
    "class_freq = class_frequencies(emails)\n",
    "class_freq"
   ]
  },
  {
   "cell_type": "code",
   "execution_count": 86,
   "metadata": {},
   "outputs": [
    {
     "name": "stdout",
     "output_type": "stream",
     "text": [
      "The proportion of the spam in the dataset: 23.88 %\n",
      "The proportion of the spam in the dataset: 76.12 %\n"
     ]
    }
   ],
   "source": [
    "print(f\"The proportion of the spam in the dataset: {100*(class_freq['spam']/len(emails)):.2f} %\")\n",
    "print(f\"The proportion of the spam in the dataset: {100*(class_freq['ham']/len(emails)):.2f} %\")"
   ]
  },
  {
   "cell_type": "markdown",
   "metadata": {},
   "source": [
    "##### Naive Bayes for Categorical features"
   ]
  },
  {
   "cell_type": "code",
   "execution_count": 88,
   "metadata": {},
   "outputs": [],
   "source": [
    "def email_classifier(text:str, word_freq=word_freq, class_freq=class_freq):\n",
    "    text = text.lower()\n",
    "    words = set(text.split())\n",
    "    cumulative_product_spam = 1.0\n",
    "    cumulative_product_ham = 1.0\n",
    "    \n",
    "    for word in words:\n",
    "        if word in word_freq:\n",
    "            word_freq_dict = word_freq[word]\n",
    "            spam_count = word_freq_dict['spam']\n",
    "            ham_count = word_freq_dict['ham']\n",
    "            cumulative_product_spam *= spam_count/class_freq['spam']\n",
    "            cumulative_product_ham *= ham_count/class_freq['ham']\n",
    "    \n",
    "    # calculate the likelihood of the words appearing the email given that it is spam\n",
    "    likelihood_word_given_spam = cumulative_product_spam * (class_freq['spam']/(class_freq['spam']+class_freq['ham']))\n",
    "    \n",
    "    # calculate the likelihood of the words appearing in the email given it is ham\n",
    "    likelihood_word_given_ham = cumulative_product_ham * (class_freq['ham']/(class_freq['spam']+class_freq['ham']))\n",
    "    \n",
    "    # calculate the posterior probabilty of the email  being spam given that the words appear in the email (the probaibility of being a spam given the email content)\n",
    "    prob_spam = likelihood_word_given_spam / (likelihood_word_given_spam+likelihood_word_given_ham)\n",
    "    \n",
    "    return prob_spam\n",
    "    "
   ]
  },
  {
   "cell_type": "code",
   "execution_count": 93,
   "metadata": {},
   "outputs": [
    {
     "name": "stdout",
     "output_type": "stream",
     "text": [
      "Probability of spam for email 'Dear friend, you won a lottery of three million dollars.': 100.00 %\n",
      "Probability of spam for email 'I hope you're doing well.': 0.96 %\n"
     ]
    }
   ],
   "source": [
    "msg = \"Dear friend, you won a lottery of three million dollars.\"\n",
    "print(f\"Probability of spam for email '{msg}': {100*email_classifier(text=msg):.2f} %\")\n",
    "msg1 = \"I hope you're doing well.\"\n",
    "print(f\"Probability of spam for email '{msg1}': {100*email_classifier(text=msg1):.2f} %\")\n"
   ]
  }
 ],
 "metadata": {
  "kernelspec": {
   "display_name": "Python 3",
   "language": "python",
   "name": "python3"
  },
  "language_info": {
   "codemirror_mode": {
    "name": "ipython",
    "version": 3
   },
   "file_extension": ".py",
   "mimetype": "text/x-python",
   "name": "python",
   "nbconvert_exporter": "python",
   "pygments_lexer": "ipython3",
   "version": "3.12.2"
  },
  "orig_nbformat": 4
 },
 "nbformat": 4,
 "nbformat_minor": 2
}
